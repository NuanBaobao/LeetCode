{
 "cells": [
  {
   "cell_type": "code",
   "execution_count": 3,
   "metadata": {},
   "outputs": [
    {
     "name": "stdout",
     "output_type": "stream",
     "text": [
      "-1\n",
      "0\n",
      "1\n",
      "2\n",
      "3\n",
      "4\n"
     ]
    }
   ],
   "source": [
    "from queue import PriorityQueue \n",
    "\n",
    "pQueue = PriorityQueue()\n",
    "\n",
    "# 入队\n",
    "for i in range(-1,5):\n",
    "    pQueue.put(i)\n",
    "\n",
    "while not pQueue.empty():\n",
    "    print(pQueue.get())"
   ]
  },
  {
   "cell_type": "code",
   "execution_count": 4,
   "metadata": {},
   "outputs": [
    {
     "name": "stdout",
     "output_type": "stream",
     "text": [
      "(-2, 5)\n",
      "(1, 4)\n"
     ]
    }
   ],
   "source": [
    "from queue import PriorityQueue \n",
    "\n",
    "pQueue = PriorityQueue()\n",
    "\n",
    "# 入队\n",
    "pQueue.put((1,4))\n",
    "pQueue.put((-2,5))\n",
    "\n",
    "while not pQueue.empty():\n",
    "    print(pQueue.get())"
   ]
  }
 ],
 "metadata": {
  "interpreter": {
   "hash": "1157a1f6b7fad67cc2166339331b3097d6d080fcf499b231a86d909993341c37"
  },
  "kernelspec": {
   "display_name": "Python 3.9.7 ('base')",
   "language": "python",
   "name": "python3"
  },
  "language_info": {
   "codemirror_mode": {
    "name": "ipython",
    "version": 3
   },
   "file_extension": ".py",
   "mimetype": "text/x-python",
   "name": "python",
   "nbconvert_exporter": "python",
   "pygments_lexer": "ipython3",
   "version": "3.9.7"
  },
  "orig_nbformat": 4
 },
 "nbformat": 4,
 "nbformat_minor": 2
}
